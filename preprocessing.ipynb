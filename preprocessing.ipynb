{
 "cells": [
  {
   "cell_type": "code",
   "execution_count": 1,
   "metadata": {},
   "outputs": [],
   "source": [
    "import matplotlib.pyplot as plt\n",
    "import seaborn as sns\n",
    "import pandas as pd\n",
    "import numpy as np"
   ]
  },
  {
   "cell_type": "code",
   "execution_count": 2,
   "metadata": {},
   "outputs": [],
   "source": [
    "df = pd.read_csv('/home/andrey/ds_bootcamp/Phase_0/Week_3/P0_W3_D4_property_project/_data.csv', sep=',', index_col=0)\n",
    "\n",
    "#Оставляем только Город Москва, все остальные строчки удаляем\n",
    "df = df[df['Адрес'].str.contains('Москва', case=False, na=False)]\n",
    "\n",
    "# Извлечение первого числа (этаж)\n",
    "df['Этаж'] = df['Дом'].apply(lambda x: x.split('/')[0] if pd.notna(x) else None)\n",
    "\n",
    "# Извлечение второго числа (этажность)\n",
    "df['Этажность'] = df['Дом'].apply(lambda x: x.split('/')[1].split(',')[0] if pd.notna(x) and '/' in x else None)\n",
    "\n",
    "# Оставляем только первую часть строки до первого пробела (цифры)\n",
    "df['Количество комнат'] = df['Количество комнат'].apply(lambda x: x.split(\",\")[0] if pd.notna(x) else x)\n",
    "\n",
    "# Преобразуем колонку в числовой тип\n",
    "df['Количество комнат'] = df['Количество комнат'].astype(float)\n",
    "\n",
    "# Преобразуем колонку в число\n",
    "df['Цена'] = df['Цена'].apply(lambda x: '{:,.0f}'.format(float(x.split(' ')[0])))\n",
    "\n",
    "pd.set_option('display.max_columns', None)\n",
    "pd.set_option('display.max_rows', None)"
   ]
  },
  {
   "cell_type": "code",
   "execution_count": 3,
   "metadata": {},
   "outputs": [
    {
     "data": {
      "text/plain": [
       "ID  объявления                  0\n",
       "Количество комнат             535\n",
       "Тип                             0\n",
       "Метро                         346\n",
       "Адрес                           0\n",
       "Площадь, м2                     0\n",
       "Дом                             0\n",
       "Парковка                    11174\n",
       "Цена                            0\n",
       "Телефоны                        0\n",
       "Описание                        0\n",
       "Ремонт                       2463\n",
       "Площадь комнат, м2           7228\n",
       "Балкон                       6630\n",
       "Окна                         5150\n",
       "Санузел                      2041\n",
       "Можно с детьми/животными     4915\n",
       "Дополнительно                 272\n",
       "Название ЖК                 15281\n",
       "Серия дома                  17646\n",
       "Высота потолков, м           9202\n",
       "Лифт                         4192\n",
       "Мусоропровод                 8007\n",
       "Ссылка на объявление            0\n",
       "Этаж                            0\n",
       "Этажность                       0\n",
       "dtype: int64"
      ]
     },
     "execution_count": 3,
     "metadata": {},
     "output_type": "execute_result"
    }
   ],
   "source": [
    "# Ремонт, Саузел, дети/животные, Доплонительно, Серия Дома == NAN == 0\n",
    "# Кол. комнат==диапозон площади =>комнат, Площать комнат==2-ое Жилая площать/каол. комнат если есть то Общая площ/кол. комнат, Высота потлков==Мидиана по ЖК\n",
    "\n",
    "# Парковка==ЖК-Роман, \n",
    "# Лифт==ЖК-Роман, \n",
    "# Мусоропровод==ЖК-Роман,\n",
    "\n",
    "# Метро==Адрес/Нзавние ЖК-Андрей,\n",
    "# Нзавние ЖК==Адрес/Метро-Андрей, \n",
    " \n",
    "# Балкон==Описание-Андрей, \n",
    "# Окна==Описание-Андрей"
   ]
  },
  {
   "cell_type": "code",
   "execution_count": 4,
   "metadata": {},
   "outputs": [],
   "source": [
    "#Санузел\n",
    "#  Заполняем колонку \"Санузел\" на основе ключевых слов в колонке \"Описание\"\n",
    "df['Санузел'] = df.apply(lambda row: 'Раздельный' if 'раздельный санузел' in str(row['Описание']).lower()\n",
    "                         else 'Совмещенный' if 'совмещенный санузел' in str(row['Описание']).lower()\n",
    "                         else 'Два санузла' if 'два санузла' in str(row['Описание']).lower()\n",
    "                         else 0, axis=1)"
   ]
  },
  {
   "cell_type": "code",
   "execution_count": 5,
   "metadata": {},
   "outputs": [],
   "source": [
    "#Можно с детьми/животными\n",
    "#  Заполняем колонку \"Можно с детьми/животными\" на основе ключевых слов в колонке \"Описание\"\n",
    "df['Можно с детьми/животными'] = df.apply(lambda row: 'Можно с детьми' if 'можно с детьми' in str(row['Описание']).lower()\n",
    "                                          else 'Можно с животными' if 'можно с животными' in str(row['Описание']).lower()\n",
    "                                          else 'Нельзя с животными' if 'без животных' in str(row['Описание']).lower()\n",
    "                                          else 0, axis=1)"
   ]
  },
  {
   "cell_type": "code",
   "execution_count": 6,
   "metadata": {},
   "outputs": [],
   "source": [
    "# Ремонт\n",
    "# Заполняем колонку \"Ремонт\" на основе ключевых слов в колонке \"Описание\"\n",
    "df['Ремонт'] = df.apply(lambda row: 'Евроремонт' if 'евроремонт' in str(row['Описание']).lower()\n",
    "                        else 'Косметический ремонт' if 'косметический ремонт' in str(row['Описание']).lower()\n",
    "                        else 'Без ремонта' if 'без ремонта' in str(row['Описание']).lower()\n",
    "                        else 0, axis=1)\n"
   ]
  },
  {
   "cell_type": "code",
   "execution_count": 7,
   "metadata": {},
   "outputs": [],
   "source": [
    "#Балкон\n",
    "df['Балкон'] = df.apply(lambda row: row['Описание'] \n",
    "                        if 'балкон' in str(row['Описание']).lower() or 'лоджия' in str(row['Описание']).lower() \n",
    "                        else 0, axis=1)"
   ]
  },
  {
   "cell_type": "code",
   "execution_count": 8,
   "metadata": {},
   "outputs": [],
   "source": [
    "#Окна\n",
    "df['Окна'] = df.apply(lambda row: row['Описание'] \n",
    "                        if 'на улицу' in str(row['Описание']).lower() \n",
    "                        or 'во двор' in str(row['Описание']).lower() \n",
    "                        or 'на улицу и двор' in str(row['Описание']).lower()\n",
    "                        else 0, axis=1)"
   ]
  },
  {
   "cell_type": "code",
   "execution_count": 9,
   "metadata": {},
   "outputs": [],
   "source": [
    "#Метро\n",
    "#1. Создаем новую колонку, в которой оставляем только части [1] и [2] после разбивки в строке чтоб оставить только улицу и номер дома\n",
    "df['Краткий Адрес'] = df['Адрес'].apply(lambda x: ', '.join(x.split(',')[1:3]).strip() if len(x.split(',')) > 2 else x)\n",
    "\n",
    "#2. Создаем словарь, где для каждого \"Краткий Адрес\" указывается метро (где метро не пустое)\n",
    "address_metro_mapping = df.dropna(subset=['Метро']).set_index('Краткий Адрес')['Метро'].to_dict()\n",
    "\n",
    "#3. Заполняем пропуски в колонке \"Метро\" на основе словаря соответствий\n",
    "df['Метро'] = df.apply(lambda row: address_metro_mapping.get(row['Краткий Адрес'], row['Метро']), axis=1)\n",
    "\n",
    "#4. Создаем словарь соответствий ЖК -> Метро (где метро не пустое)\n",
    "zhk_metro_mapping = df.dropna(subset=['Метро']).set_index('Название ЖК')['Метро'].to_dict()\n",
    "\n",
    "#5. Заполняем пропуски в колонке \"Метро\" на основе названия ЖК\n",
    "df['Метро'] = df.apply(lambda row: zhk_metro_mapping.get(row['Название ЖК'], row['Метро']), axis=1)\n",
    "\n",
    "# 6. Заполняем оставшиеся пробелы в колонке \"Метро\" значением 0\n",
    "df['Метро'] = df['Метро'].fillna(0)"
   ]
  },
  {
   "cell_type": "code",
   "execution_count": 10,
   "metadata": {},
   "outputs": [],
   "source": [
    "#Название ЖК\n",
    "# 1. Создаем словарь соответствий Краткий Адрес -> Название ЖК (где название ЖК не пустое)\n",
    "address_to_zhk_mapping = df.dropna(subset=['Название ЖК']).set_index('Краткий Адрес')['Название ЖК'].to_dict()\n",
    "\n",
    "# 2. Заполняем пропуски в колонке \"Название ЖК\" на основе \"Краткий Адрес\"\n",
    "df['Название ЖК'] = df.apply(lambda row: address_to_zhk_mapping.get(row['Краткий Адрес'], row['Название ЖК']), axis=1)\n",
    "\n",
    "df['Название ЖК'] = df['Название ЖК'].fillna(0)"
   ]
  },
  {
   "cell_type": "code",
   "execution_count": 11,
   "metadata": {},
   "outputs": [],
   "source": [
    "#Лифт\n",
    "# Заполняем пропуски в колонке \"Лифт\" значением 1, если в колонке \"Название ЖК\" не NaN\n",
    "df['Лифт'] = df.apply(lambda row: \"Есть\" if pd.notna(row['Название ЖК']) and pd.isna(row['Лифт']) else row['Лифт'], axis=1)\n",
    "\n",
    "# Создаем словарь соответствий Краткий Адрес -> Лифт (где Лифт не пустое)\n",
    "address_lift_mapping = df.dropna(subset=['Лифт']).set_index('Краткий Адрес')['Лифт'].to_dict()\n",
    "\n",
    "# Заполняем пропуски в колонке \"Лифт\" на основе \"Краткий Адрес\"\n",
    "df['Лифт'] = df.apply(lambda row: address_lift_mapping.get(row['Краткий Адрес'], row['Лифт']), axis=1)\n",
    "\n",
    "# Заполняем колонку \"Лифт\" значением \"Есть\", если этажность больше или равна 6\n",
    "df['Лифт'] = df.apply(lambda row: 'Есть' if pd.notna(row['Этажность']) and int(row['Этажность']) >= 6 else row['Лифт'], axis=1)\n",
    "\n",
    "# Заполняем колонку \"Лифт\" значением \"Есть\", если в колонке \"Описание\" есть слово \"лифт\"\n",
    "df['Лифт'] = df.apply(lambda row: 'Есть' if 'лифт' in str(row['Описание']).lower() else row['Лифт'], axis=1)\n",
    "\n",
    "df['Лифт'] = df['Лифт'].fillna(0)\n"
   ]
  },
  {
   "cell_type": "code",
   "execution_count": 12,
   "metadata": {},
   "outputs": [],
   "source": [
    "#Мусоропровод\n",
    "# 1. Заполняем пропуски в колонке \"Мусоропровод\" значением \"Есть\", если в колонке \"Название ЖК\" не NaN\n",
    "df['Мусоропровод'] = df.apply(lambda row: \"Есть\" if pd.notna(row['Название ЖК']) and pd.isna(row['Мусоропровод']) else row['Мусоропровод'], axis=1)\n",
    "\n",
    "# 2. Создаем словарь соответствий Краткий Адрес -> Мусоропровод (где Мусоропровод не пустое)\n",
    "address_trash_mapping = df.dropna(subset=['Мусоропровод']).set_index('Краткий Адрес')['Мусоропровод'].to_dict()\n",
    "\n",
    "# Заполняем пропуски в колонке \"Мусоропровод\" на основе \"Краткий Адрес\"\n",
    "df['Мусоропровод'] = df.apply(lambda row: address_trash_mapping.get(row['Краткий Адрес'], row['Мусоропровод']), axis=1)\n",
    "\n",
    "# 3. Заполняем колонку \"Мусоропровод\" значением \"Есть\", если в колонке \"Описание\" есть слово \"мусоропровод\"\n",
    "df['Мусоропровод'] = df.apply(lambda row: 'Есть' if 'мусоропровод' in str(row['Описание']).lower() else row['Мусоропровод'], axis=1)\n",
    "\n",
    "df['Мусоропровод'] = df['Мусоропровод'].fillna(0)\n"
   ]
  },
  {
   "cell_type": "code",
   "execution_count": 13,
   "metadata": {},
   "outputs": [],
   "source": [
    "#Парковка\n",
    "# 1. Заполняем пропуски в колонке \"Парковка\" значением \"Есть\", если в колонке \"Название ЖК\" не NaN\n",
    "df['Парковка'] = df.apply(lambda row: \"Есть\" if pd.notna(row['Название ЖК']) and pd.isna(row['Парковка']) else row['Парковка'], axis=1)\n",
    "\n",
    "# 2. Создаем словарь соответствий Краткий Адрес -> Парковка (где Парковка не пустое)\n",
    "address_parking_mapping = df.dropna(subset=['Парковка']).set_index('Краткий Адрес')['Парковка'].to_dict()\n",
    "\n",
    "# Заполняем пропуски в колонке \"Парковка\" на основе \"Краткий Адрес\"\n",
    "df['Парковка'] = df.apply(lambda row: address_parking_mapping.get(row['Краткий Адрес'], row['Парковка']), axis=1)\n",
    "\n",
    "# 3. Заполняем колонку \"Парковка\" значением \"Есть\", если в колонке \"Описание\" есть слово \"парковка\"\n",
    "df['Парковка'] = df.apply(lambda row: 'Есть' if 'парковка' in str(row['Описание']).lower() else row['Парковка'], axis=1)\n",
    "\n",
    "df['Парковка'] = df['Парковка'].fillna(0)"
   ]
  },
  {
   "cell_type": "code",
   "execution_count": 14,
   "metadata": {},
   "outputs": [],
   "source": [
    "#Количество комнат\n",
    "# Разделяем колонку \"Площадь, м2\" по символу \"/\"\n",
    "df[['Общая площадь', 'Жилая площадь', 'Площадь кухни']] = df['Площадь, м2'].str.split('/', expand=True)\n",
    "\n",
    "# Преобразуем новые колонки в числовой тип (если это нужно)\n",
    "df[['Общая площадь', 'Жилая площадь', 'Площадь кухни']] = df[['Общая площадь', 'Жилая площадь', 'Площадь кухни']].astype(float)\n",
    "\n",
    "# Заполняем пропуски в колонке \"Жилая площадь\" значением, равным половине \"Общей площади\"\n",
    "df['Жилая площадь'] = df['Жилая площадь'].fillna(df['Общая площадь'] / 2)\n",
    "\n",
    "# Шаг 1: Находим медианную (или среднюю) Жилую площадь для каждой группы по количеству комнат\n",
    "median_living_area = df.groupby('Количество комнат')['Жилая площадь'].median()\n",
    "\n",
    "# Шаг 2: Функция для заполнения пропусков на основе Жилой площади\n",
    "def fill_room_count(row, median_living_area):\n",
    "    if pd.isna(row['Количество комнат']):\n",
    "        for rooms, median_area in median_living_area.items():\n",
    "            if row['Жилая площадь'] <= median_area:\n",
    "                return rooms\n",
    "        return median_living_area.idxmax()  # Если площадь больше всех медианных значений, возвращаем максимальное количество комнат\n",
    "    return row['Количество комнат']\n",
    "\n",
    "# Применяем функцию для заполнения пропусков\n",
    "df['Количество комнат'] = df.apply(lambda row: fill_room_count(row, median_living_area), axis=1)\n",
    "\n",
    "df['Количество комнат'] = df['Количество комнат'].fillna(0)"
   ]
  },
  {
   "cell_type": "code",
   "execution_count": 15,
   "metadata": {},
   "outputs": [],
   "source": [
    "# #Площадь комнат, м2\n",
    "# Проверяем, что в колонках \"Жилая площадь\" и \"Количество комнат\" нет пропусков\n",
    "df['Площадь комнат, м2'] = df['Площадь комнат, м2'].fillna(df['Жилая площадь'] / df['Количество комнат'])\n",
    "\n",
    "df['Площадь комнат, м2'] = df['Площадь комнат, м2'].fillna(0)"
   ]
  },
  {
   "cell_type": "code",
   "execution_count": 16,
   "metadata": {},
   "outputs": [],
   "source": [
    "#Высота потолков\n",
    "# 1: Исключаем строки, где \"Высота потолков, м\" NaN, чтобы избежать предупреждений\n",
    "df_non_nan = df.dropna(subset=['Высота потолков, м'])\n",
    "\n",
    "# 2: Найти медианные значения высоты потолков для каждого ЖК (без NaN значений)\n",
    "median_ceiling_by_jk = df_non_nan.groupby('Название ЖК')['Высота потолков, м'].transform('median')\n",
    "\n",
    "# 3: Заполняем пропуски в колонке \"Высота потолков, м\" медианными значениями для каждого ЖК\n",
    "df['Высота потолков, м'] = df['Высота потолков, м'].fillna(median_ceiling_by_jk)\n",
    "\n",
    "# 1: Создаем словарь соответствий 'Краткий Адрес' -> 'Высота потолков, м' (где значение не NaN)\n",
    "address_ceiling_mapping = df.dropna(subset=['Высота потолков, м']).set_index('Краткий Адрес')['Высота потолков, м'].to_dict()\n",
    "\n",
    "# 2: Функция для заполнения NaN значений в колонке 'Высота потолков, м' на основе 'Краткий Адрес'\n",
    "df['Высота потолков, м'] = df.apply(lambda row: address_ceiling_mapping.get(row['Краткий Адрес'], row['Высота потолков, м']) if pd.isna(row['Высота потолков, м']) else row['Высота потолков, м'], axis=1)\n",
    "\n",
    "# 1: Вычисляем медиану для колонки \"Высота потолков, м\"\n",
    "median_ceiling = df['Высота потолков, м'].median()\n",
    "\n",
    "# 2: Заполняем оставшиеся NaN медианным значением\n",
    "df['Высота потолков, м'] = df['Высота потолков, м'].fillna(median_ceiling)"
   ]
  },
  {
   "cell_type": "code",
   "execution_count": 17,
   "metadata": {},
   "outputs": [],
   "source": [
    "#Площадь кухни\n",
    "#  Шаг 1: Вычисляем медиану для колонки \"Площадь кухни\"\n",
    "median_kitchen_area = df['Площадь кухни'].median()\n",
    "\n",
    "# Шаг 2: Заполняем пропуски в колонке \"Площадь кухни\" медианным значением\n",
    "df['Площадь кухни'] = df['Площадь кухни'].fillna(median_kitchen_area)"
   ]
  },
  {
   "cell_type": "code",
   "execution_count": 19,
   "metadata": {},
   "outputs": [],
   "source": [
    "#Серия дома и Дополнительно\n",
    "df['Дополнительно'] = df['Дополнительно'].fillna(0)\n",
    "df['Серия дома'] = df['Серия дома'].fillna(0)"
   ]
  },
  {
   "cell_type": "code",
   "execution_count": 23,
   "metadata": {},
   "outputs": [],
   "source": [
    "#Переименование колонок\n",
    "columntranslation = {\n",
    "    'ID  объявления': 'ID',    \n",
    "    'Количество комнат': 'Number_of_Rooms',\n",
    "    'Тип': 'Type',\n",
    "    'Метро': 'Metro',\n",
    "    'Адрес': 'Address',\n",
    "    'Площадь, м2': 'Area_m2',\n",
    "    'Дом': 'House',\n",
    "    'Парковка': 'Parking',\n",
    "    'Цена': 'Price',\n",
    "    'Телефоны': 'Phones',\n",
    "    'Описание': 'Description',\n",
    "    'Ремонт': 'Renovation',\n",
    "    'Площадь комнат, м2': 'Room_Area_m2',\n",
    "    'Балкон': 'Balcony',\n",
    "    'Окна': 'Windows',\n",
    "    'Санузел': 'Bathroom',\n",
    "    'Можно с детьми/животными': 'Pets/Children_Allowed',\n",
    "    'Дополнительно': 'Additional_Info',\n",
    "    'Название ЖК': 'HousingСomplex',\n",
    "    'Серия дома': 'House_Series',\n",
    "    'Высота потолков, м': 'Ceiling_Height_m',\n",
    "    'Лифт': 'Elevator',\n",
    "    'Мусоропровод': 'Garbage_Chute',\n",
    "    'Ссылка на объявление': 'Ad_Link',\n",
    "    'Этаж': 'Floor',\n",
    "    'Этажность': 'Total_Floors',\n",
    "    'Краткий Адрес': 'Short_Address',\n",
    "    'Цена числовая': 'Price_Numeric',\n",
    "    'Количество комнат числовое': 'Rooms_Numeric',\n",
    "    'Жилая площадь, м2': 'Living_Area_m2',\n",
    "    'Общая площадь': 'Total_area',\n",
    "    'Жилая площадь': 'Living_area',\n",
    "    'Площадь кухни': 'Kitchen_area'\n",
    "}\n",
    "\n",
    "df.rename(columns=columntranslation, inplace=True)"
   ]
  },
  {
   "cell_type": "markdown",
   "metadata": {},
   "source": [
    "# Рабочие колонки Выше"
   ]
  },
  {
   "cell_type": "code",
   "execution_count": 25,
   "metadata": {},
   "outputs": [],
   "source": [
    "#Сохранение фаил data.csv\n",
    "df.to_csv('data.csv', index=False)"
   ]
  },
  {
   "cell_type": "code",
   "execution_count": null,
   "metadata": {},
   "outputs": [],
   "source": []
  },
  {
   "cell_type": "code",
   "execution_count": null,
   "metadata": {},
   "outputs": [],
   "source": []
  },
  {
   "cell_type": "code",
   "execution_count": null,
   "metadata": {},
   "outputs": [],
   "source": []
  }
 ],
 "metadata": {
  "kernelspec": {
   "display_name": "base",
   "language": "python",
   "name": "python3"
  },
  "language_info": {
   "codemirror_mode": {
    "name": "ipython",
    "version": 3
   },
   "file_extension": ".py",
   "mimetype": "text/x-python",
   "name": "python",
   "nbconvert_exporter": "python",
   "pygments_lexer": "ipython3",
   "version": "3.10.14"
  }
 },
 "nbformat": 4,
 "nbformat_minor": 2
}
